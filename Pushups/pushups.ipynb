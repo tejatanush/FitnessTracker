{
 "cells": [
  {
   "cell_type": "markdown",
   "metadata": {},
   "source": [
    "Required libraries"
   ]
  },
  {
   "cell_type": "code",
   "execution_count": 1,
   "metadata": {},
   "outputs": [
    {
     "name": "stderr",
     "output_type": "stream",
     "text": [
      "c:\\Users\\tejat\\anaconda3\\envs\\gymbro\\lib\\site-packages\\tqdm\\auto.py:21: TqdmWarning: IProgress not found. Please update jupyter and ipywidgets. See https://ipywidgets.readthedocs.io/en/stable/user_install.html\n",
      "  from .autonotebook import tqdm as notebook_tqdm\n"
     ]
    }
   ],
   "source": [
    "import numpy as np\n",
    "import cv2\n",
    "import mediapipe as mp\n",
    "import simpleaudio as sa\n",
    "from langchain_groq import ChatGroq\n",
    "from dotenv import load_dotenv\n",
    "import os\n",
    "from langchain_core.prompts import ChatPromptTemplate\n",
    "from feedbackbot import bot\n",
    "from relevancy_checker import check_relevancy\n",
    "from followup_bot import run_chatbot\n",
    "import subprocess\n",
    "import threading"
   ]
  },
  {
   "cell_type": "markdown",
   "metadata": {},
   "source": [
    "Importing model"
   ]
  },
  {
   "cell_type": "code",
   "execution_count": 2,
   "metadata": {},
   "outputs": [],
   "source": [
    "mp_pose = mp.solutions.pose\n",
    "mp_drawing = mp.solutions.drawing_utils\n",
    "pose = mp_pose.Pose(model_complexity=1)"
   ]
  },
  {
   "cell_type": "markdown",
   "metadata": {},
   "source": [
    "Caluculate Angle"
   ]
  },
  {
   "cell_type": "code",
   "execution_count": 3,
   "metadata": {},
   "outputs": [],
   "source": [
    "def calculate_angle(a, b, c):\n",
    "    \"\"\"Calculate the angle between three points.\"\"\"\n",
    "    a, b, c = np.array(a), np.array(b), np.array(c)\n",
    "    \n",
    "    ba = a - b\n",
    "    bc = c - b\n",
    "\n",
    "    mag_ba = np.linalg.norm(ba)\n",
    "    mag_bc = np.linalg.norm(bc)\n",
    "\n",
    "    if mag_ba * mag_bc < 1e-6:\n",
    "        return 0\n",
    "\n",
    "    dot_product = np.dot(ba, bc)\n",
    "    angle_rad = np.arccos(np.clip(dot_product / (mag_ba * mag_bc), -1.0, 1.0))\n",
    "    return np.degrees(angle_rad)"
   ]
  },
  {
   "cell_type": "markdown",
   "metadata": {},
   "source": [
    "Evaluate Pushups"
   ]
  },
  {
   "cell_type": "code",
   "execution_count": 4,
   "metadata": {},
   "outputs": [],
   "source": [
    "class PushupAnalyzer:\n",
    "    def __init__(self):\n",
    "        self.prev_elbow_angle = 180  # Start at top position\n",
    "        self.pushup_count = 0\n",
    "        self.min_elbow_angle = 180\n",
    "        self.lockout_threshold = 160\n",
    "        self.bottom_threshold = 90\n",
    "        self.is_bottom_reached = False  # Track state internally\n",
    "\n",
    "    def process_frame(self, shoulder, elbow, wrist, hip):\n",
    "        pushup_completed = False\n",
    "        feedback = \"\"\n",
    "        elbow_angle = calculate_angle(shoulder, elbow, wrist)\n",
    "        torso_angle = calculate_angle(shoulder, hip, [hip[0], shoulder[1]])\n",
    "\n",
    "        # Phase 1: Descending (check for bottom)\n",
    "        if elbow_angle < self.prev_elbow_angle and not self.is_bottom_reached:\n",
    "            if elbow_angle <= self.bottom_threshold:\n",
    "                self.is_bottom_reached = True\n",
    "                self.min_elbow_angle = elbow_angle\n",
    "                feedback = \"Perfect depth!\"\n",
    "            else:\n",
    "                feedback = f\"Go lower! Current: {elbow_angle}°\"\n",
    "\n",
    "        # Phase 2: Ascending (check for top)\n",
    "        elif elbow_angle > self.prev_elbow_angle and self.is_bottom_reached:\n",
    "            if elbow_angle >= self.lockout_threshold:\n",
    "                pushup_completed = True\n",
    "                self.pushup_count += 1\n",
    "                self.is_bottom_reached = False\n",
    "                feedback = \"Good rep! \" if self.min_elbow_angle <= 90 else \"Shallow rep! \"\n",
    "                feedback += \"Perfect lockout!\" if elbow_angle >= 175 else \"Fully extend arms!\"\n",
    "            else:\n",
    "                feedback = \"Keep pushing up!\"\n",
    "\n",
    "        # Torso stability check\n",
    "        if abs(torso_angle) > 20:\n",
    "            feedback += \" Hips too high!\" if torso_angle > 0 else \" Hips sagging!\"\n",
    "\n",
    "        self.prev_elbow_angle = elbow_angle\n",
    "        return pushup_completed, feedback.strip(), elbow_angle, torso_angle"
   ]
  },
  {
   "cell_type": "markdown",
   "metadata": {},
   "source": [
    "Text to speech for feedback"
   ]
  },
  {
   "cell_type": "code",
   "execution_count": 5,
   "metadata": {},
   "outputs": [],
   "source": [
    "\n",
    "#from playsound import playsound  \n",
    "\n",
    "class PiperTTS:\n",
    "    def __init__(self):\n",
    "        self.piper_path = r\"C:\\Users\\tejat\\Desktop\\FitnessApp\\piper\\piper.exe\"\n",
    "        self.model_path = r\"C:\\Users\\tejat\\Desktop\\FitnessApp\\piper\\en_US-kathleen-low.onnx\"\n",
    "        \n",
    "    def speak(self, text):\n",
    "        \"\"\"Non-blocking speech synthesis\"\"\"\n",
    "        def _run():\n",
    "            output = \"feedback.wav\"\n",
    "            cmd = f'echo \"{text}\" | \"{self.piper_path}\" --model \"{self.model_path}\" --output_file {output}'\n",
    "            subprocess.run(cmd, shell=True, stdout=subprocess.PIPE)\n",
    "            #playsound(output)\n",
    "            \n",
    "        thread = threading.Thread(target=_run)\n",
    "        thread.start()\n",
    "\n",
    "# Usage\n",
    "tts = PiperTTS()"
   ]
  },
  {
   "cell_type": "code",
   "execution_count": 6,
   "metadata": {},
   "outputs": [],
   "source": [
    "def play_audio_async():\n",
    "    wave_obj = sa.WaveObject.from_wave_file(\"feedback.wav\")\n",
    "    play_obj = wave_obj.play()\n",
    "    play_obj.wait_done()"
   ]
  },
  {
   "cell_type": "markdown",
   "metadata": {},
   "source": [
    "Drawing Pose"
   ]
  },
  {
   "cell_type": "code",
   "execution_count": 7,
   "metadata": {},
   "outputs": [],
   "source": [
    "def draw_pose(frame, landmarks):\n",
    "    \"\"\"Draw landmarks on the frame.\"\"\"\n",
    "    mp_drawing.draw_landmarks(\n",
    "        frame,\n",
    "        landmarks,\n",
    "        mp_pose.POSE_CONNECTIONS,\n",
    "        mp_drawing.DrawingSpec(color=(0, 255, 0), thickness=2),\n",
    "        mp_drawing.DrawingSpec(color=(0, 0, 255), thickness=2),\n",
    "    )\n"
   ]
  },
  {
   "cell_type": "markdown",
   "metadata": {},
   "source": [
    "Display Information"
   ]
  },
  {
   "cell_type": "code",
   "execution_count": 8,
   "metadata": {},
   "outputs": [],
   "source": [
    "def display_info(frame, pushup_count, feedback, elbow_angle, torso_angle):\n",
    "    \"\"\"Display pushup count, angles, and feedback.\"\"\"\n",
    "    cv2.putText(frame, f\"Pushups: {pushup_count}\", (50, 50), \n",
    "                cv2.FONT_HERSHEY_SIMPLEX, 1, (0, 255, 0), 2)\n",
    "    cv2.putText(frame, f\"Elbow: {elbow_angle:.1f}°\", (50, 100), \n",
    "                cv2.FONT_HERSHEY_SIMPLEX, 0.7, (255, 255, 255), 2)\n",
    "    cv2.putText(frame, f\"Torso: {torso_angle:.1f}°\", (50, 140), \n",
    "                cv2.FONT_HERSHEY_SIMPLEX, 0.7, (255, 255, 255), 2)\n",
    "\n",
    "    if feedback:\n",
    "        color = (0, 255, 0) if \"Perfect\" in feedback else (0, 0, 255)\n",
    "        cv2.putText(frame, feedback, (50, 180), \n",
    "                    cv2.FONT_HERSHEY_SIMPLEX, 0.8, color, 2)"
   ]
  },
  {
   "cell_type": "markdown",
   "metadata": {},
   "source": [
    "# Main"
   ]
  },
  {
   "cell_type": "code",
   "execution_count": 9,
   "metadata": {},
   "outputs": [],
   "source": [
    "#video_path = r\"C:\\Users\\tejat\\Desktop\\FitnessApp\\wrong_pushups2.mp4\"\n",
    "cap = cv2.VideoCapture(0)\n",
    "analyzer=PushupAnalyzer()\n",
    "\n",
    "# Check if video is opened\n",
    "if not cap.isOpened():\n",
    "    print(\"Error: Could not open video file!\")\n",
    "    exit()\n",
    "\n",
    "pushup_count = 0\n",
    "is_bottom_reached = False\n",
    "current_feedback = \"\"\n",
    "feedback_display_frames = 0\n",
    "feedbacks=[]\n",
    "while cap.isOpened():\n",
    "    ret, frame = cap.read()\n",
    "    if not ret:\n",
    "        break\n",
    "\n",
    "    frame_rgb = cv2.cvtColor(frame, cv2.COLOR_BGR2RGB)\n",
    "    results = pose.process(frame_rgb)\n",
    "\n",
    "    if results.pose_landmarks:\n",
    "        draw_pose(frame, results.pose_landmarks)\n",
    "\n",
    "        landmarks = results.pose_landmarks.landmark\n",
    "        h, w, _ = frame.shape\n",
    "\n",
    "        # Extract key landmarks\n",
    "        try:\n",
    "            shoulder = [landmarks[mp_pose.PoseLandmark.LEFT_SHOULDER].x * w,\n",
    "                        landmarks[mp_pose.PoseLandmark.LEFT_SHOULDER].y * h]\n",
    "\n",
    "            elbow = [landmarks[mp_pose.PoseLandmark.LEFT_ELBOW].x * w,\n",
    "                     landmarks[mp_pose.PoseLandmark.LEFT_ELBOW].y * h]\n",
    "\n",
    "            wrist = [landmarks[mp_pose.PoseLandmark.LEFT_WRIST].x * w,\n",
    "                     landmarks[mp_pose.PoseLandmark.LEFT_WRIST].y * h]\n",
    "\n",
    "            hip = [landmarks[mp_pose.PoseLandmark.LEFT_HIP].x * w,\n",
    "                   landmarks[mp_pose.PoseLandmark.LEFT_HIP].y * h]\n",
    "\n",
    "            # Evaluate pushup\n",
    "            completed, feedback, elbow_angle, torso_angle = analyzer.process_frame(shoulder, elbow, wrist, hip)\n",
    "\n",
    "            if completed:\n",
    "                pushup_count =analyzer.pushup_count\n",
    "                current_feedback = feedback\n",
    "                feedbacks.append(current_feedback)\n",
    "                feedback_display_frames = 30  \n",
    "                tts.speak(current_feedback)\n",
    "                threading.Thread(target=play_audio_async).start()\n",
    "\n",
    "            display_info(frame, pushup_count, \n",
    "                        current_feedback if feedback_display_frames > 0 else \"\",\n",
    "                        elbow_angle, torso_angle)\n",
    "\n",
    "            if feedback_display_frames > 0:\n",
    "                feedback_display_frames -= 1\n",
    "        except IndexError:\n",
    "            print(\"Error: Landmark detection failed!\")\n",
    "            \n",
    "            \n",
    "\n",
    "    cv2.imshow('Pushup Counter', frame)\n",
    "    \n",
    "    if cv2.waitKey(10) == ord('q'):\n",
    "        break\n",
    "\n",
    "cap.release()\n",
    "cv2.destroyAllWindows()\n"
   ]
  },
  {
   "cell_type": "code",
   "execution_count": 10,
   "metadata": {},
   "outputs": [],
   "source": [
    "feedbacks=set(feedbacks)"
   ]
  },
  {
   "cell_type": "code",
   "execution_count": 11,
   "metadata": {},
   "outputs": [],
   "source": [
    "load_dotenv()\n",
    "api_key = os.environ.get(\"GROQ_API_KEY\")"
   ]
  },
  {
   "cell_type": "markdown",
   "metadata": {},
   "source": [
    "Langchain Bro"
   ]
  },
  {
   "cell_type": "code",
   "execution_count": 12,
   "metadata": {},
   "outputs": [
    {
     "name": "stdout",
     "output_type": "stream",
     "text": [
      "No feedback was generated from the video.\n"
     ]
    }
   ],
   "source": [
    "if feedbacks:\n",
    "    analysis = bot(feedbacks, exercise=\"pushups\")\n",
    "    for i, response in enumerate(analysis):\n",
    "        print(f\"Feedback {i+1}:\")\n",
    "        print(response)\n",
    "        print(\"-\" * 50)\n",
    "else:\n",
    "    print(\"No feedback was generated from the video.\")"
   ]
  },
  {
   "cell_type": "code",
   "execution_count": 13,
   "metadata": {},
   "outputs": [
    {
     "ename": "NameError",
     "evalue": "name 'analysis' is not defined",
     "output_type": "error",
     "traceback": [
      "\u001b[1;31m---------------------------------------------------------------------------\u001b[0m",
      "\u001b[1;31mNameError\u001b[0m                                 Traceback (most recent call last)",
      "Cell \u001b[1;32mIn[13], line 1\u001b[0m\n\u001b[1;32m----> 1\u001b[0m analysis\u001b[38;5;241m=\u001b[39m\u001b[38;5;124m\"\u001b[39m\u001b[38;5;124m\"\u001b[39m\u001b[38;5;241m.\u001b[39mjoin(\u001b[43manalysis\u001b[49m)\n\u001b[0;32m      2\u001b[0m text1\u001b[38;5;241m=\u001b[39m\u001b[38;5;124m\"\u001b[39m\u001b[38;5;124m\"\u001b[39m\n\u001b[0;32m      3\u001b[0m text1\u001b[38;5;241m=\u001b[39mtext1\u001b[38;5;241m+\u001b[39manalysis\n",
      "\u001b[1;31mNameError\u001b[0m: name 'analysis' is not defined"
     ]
    }
   ],
   "source": [
    "analysis=\"\".join(analysis)\n",
    "text1=\"\"\n",
    "text1=text1+analysis"
   ]
  },
  {
   "cell_type": "code",
   "execution_count": null,
   "metadata": {},
   "outputs": [],
   "source": [
    "while True:\n",
    "    text2=input(\"You Query:\" )\n",
    "    relevancy=check_relevancy(text1,text2)\n",
    "    if relevancy!=\"Relevant\":\n",
    "        print(\"Ask relevant questions\")\n",
    "        continue\n",
    "    chatbot_reply=run_chatbot(text2,text1)\n",
    "    text1=text1+chatbot_reply\n",
    "    print(text2)\n",
    "    print(chatbot_reply)"
   ]
  }
 ],
 "metadata": {
  "kernelspec": {
   "display_name": "gymbro",
   "language": "python",
   "name": "python3"
  },
  "language_info": {
   "codemirror_mode": {
    "name": "ipython",
    "version": 3
   },
   "file_extension": ".py",
   "mimetype": "text/x-python",
   "name": "python",
   "nbconvert_exporter": "python",
   "pygments_lexer": "ipython3",
   "version": "3.9.21"
  }
 },
 "nbformat": 4,
 "nbformat_minor": 2
}
