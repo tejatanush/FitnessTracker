{
 "cells": [
  {
   "cell_type": "code",
   "execution_count": 2,
   "metadata": {},
   "outputs": [],
   "source": [
    "import tensorflow as tf\n",
    "import numpy as np\n",
    "from matplotlib import pyplot as plt\n",
    "import cv2\n",
    "import math"
   ]
  },
  {
   "cell_type": "code",
   "execution_count": 3,
   "metadata": {},
   "outputs": [
    {
     "name": "stderr",
     "output_type": "stream",
     "text": [
      "c:\\Users\\tejat\\anaconda3\\envs\\gymbro\\lib\\site-packages\\tensorflow\\lite\\python\\interpreter.py:457: UserWarning:     Warning: tf.lite.Interpreter is deprecated and is scheduled for deletion in\n",
      "    TF 2.20. Please use the LiteRT interpreter from the ai_edge_litert package.\n",
      "    See the [migration guide](https://ai.google.dev/edge/litert/migration)\n",
      "    for details.\n",
      "    \n",
      "  warnings.warn(_INTERPRETER_DELETION_WARNING)\n"
     ]
    }
   ],
   "source": [
    "interpreter = tf.lite.Interpreter(model_path=r\"C:\\Users\\tejat\\Desktop\\FitnessApp\\3.tflite\")\n",
    "interpreter.allocate_tensors()"
   ]
  },
  {
   "cell_type": "code",
   "execution_count": 4,
   "metadata": {},
   "outputs": [],
   "source": [
    "EDGES = {\n",
    "    (0, 1): 'm',\n",
    "    (0, 2): 'c',\n",
    "    (1, 3): 'm',\n",
    "    (2, 4): 'c',\n",
    "    (0, 5): 'm',\n",
    "    (0, 6): 'c',\n",
    "    (5, 7): 'm',\n",
    "    (7, 9): 'm',\n",
    "    (6, 8): 'c',\n",
    "    (8, 10): 'c',\n",
    "    (5, 6): 'y',\n",
    "    (5, 11): 'm',\n",
    "    (6, 12): 'c',\n",
    "    (11, 12): 'y',\n",
    "    (11, 13): 'm',\n",
    "    (13, 15): 'm',\n",
    "    (12, 14): 'c',\n",
    "    (14, 16): 'c'\n",
    "}"
   ]
  },
  {
   "cell_type": "code",
   "execution_count": 5,
   "metadata": {},
   "outputs": [],
   "source": [
    "def draw_keypoints(frame, keypoints, confidence_threshold):\n",
    "    y, x, c = frame.shape\n",
    "    shaped = np.squeeze(np.multiply(keypoints, [y,x,1]))\n",
    "    \n",
    "    for kp in shaped:\n",
    "        ky, kx, kp_conf = kp\n",
    "        if kp_conf > confidence_threshold:\n",
    "            cv2.circle(frame, (int(kx), int(ky)), 4, (0,255,0), -1)"
   ]
  },
  {
   "cell_type": "code",
   "execution_count": 6,
   "metadata": {},
   "outputs": [],
   "source": [
    "def draw_connections(frame, keypoints, edges, confidence_threshold):\n",
    "    y, x, c = frame.shape\n",
    "    shaped = np.squeeze(np.multiply(keypoints, [y,x,1]))\n",
    "    \n",
    "    for edge, color in edges.items():\n",
    "        p1, p2 = edge\n",
    "        y1, x1, c1 = shaped[p1]\n",
    "        y2, x2, c2 = shaped[p2]\n",
    "        \n",
    "        if (c1 > confidence_threshold) & (c2 > confidence_threshold):      \n",
    "            cv2.line(frame, (int(x1), int(y1)), (int(x2), int(y2)), (0,0,255), 2)"
   ]
  },
  {
   "cell_type": "code",
   "execution_count": 7,
   "metadata": {},
   "outputs": [
    {
     "name": "stdout",
     "output_type": "stream",
     "text": [
      "Error: Could not video.\n",
      "-inf\n",
      "inf\n"
     ]
    }
   ],
   "source": [
    "#frame_counter = 0\n",
    "#interval = 5  \n",
    "mini=float(\"inf\")\n",
    "maxi=float(\"-inf\")\n",
    "cap = cv2.VideoCapture(r\"C:\\Users\\tejat\\Desktop\\FitnessApp\\squats.mp4\")\n",
    "\n",
    "if not cap.isOpened():\n",
    "    print(\"Error: Could not video.\")\n",
    "    exit()\n",
    "\n",
    "while cap.isOpened():\n",
    "    ret, frame = cap.read()\n",
    "    \n",
    "    if not ret:\n",
    "        print(\"Error: Couldn't read frame.\")\n",
    "        break\n",
    "    \n",
    "    # Convert frame to RGB (for TensorFlow)\n",
    "    img = cv2.cvtColor(frame, cv2.COLOR_BGR2RGB)\n",
    "    img = tf.image.resize_with_pad(np.expand_dims(img, axis=0), 192, 192)\n",
    "    input_image = tf.cast(img, dtype=tf.float32)\n",
    "\n",
    "    # Setup input and output\n",
    "    input_details = interpreter.get_input_details()\n",
    "    output_details = interpreter.get_output_details()\n",
    "\n",
    "    # Make predictions\n",
    "    interpreter.set_tensor(input_details[0]['index'], input_image.numpy())  # Ensure correct format\n",
    "    interpreter.invoke()\n",
    "    keypoints_with_scores = interpreter.get_tensor(output_details[0]['index'])\n",
    "    keypoints=keypoints_with_scores[0,0,:,:]\n",
    "    left_hip=keypoints[11]\n",
    "    left_knee=keypoints[13]\n",
    "    left_ankel=keypoints[15]\n",
    "    right_hip=keypoints[12]\n",
    "    right_knee=keypoints[14]\n",
    "    right_ankel=keypoints[16]\n",
    "    left_shoulder=keypoints[5]\n",
    "    right_shoulder=keypoints[6]\n",
    "    '''print(\"Left Shoulder:\", left_shoulder)\n",
    "    print(\"Left Hip:\", left_hip)\n",
    "    print(\"Left Knee:\", left_knee)'''\n",
    "    #print(left_hip)\n",
    "    #print(keypoints_with_scores)\n",
    "    # In your loop:\n",
    "    cv2.circle(frame, (int(left_hip[1] * frame.shape[1]), int(left_hip[0] * frame.shape[0])), 8, (0, 0, 255), -1)  # Hip (RED)\n",
    "    cv2.circle(frame, (int(left_knee[1] * frame.shape[1]), int(left_knee[0] * frame.shape[0])), 8, (255, 0, 0), -1)  # Knee (BLUE)\n",
    "    cv2.circle(frame, (int(left_shoulder[1] * frame.shape[1]), int(left_shoulder[0] * frame.shape[0])), 8, (0, 255, 0), -1)  # Shoulder (GREEN)\n",
    "\n",
    "# Print coordinates and confidence\n",
    "    print(f\"Shoulder: (X={left_shoulder[1]:.2f}, Y={left_shoulder[0]:.2f}, Conf={left_shoulder[2]:.2f})\")\n",
    "    print(f\"Hip:      (X={left_hip[1]:.2f}, Y={left_hip[0]:.2f}, Conf={left_hip[2]:.2f})\")\n",
    "    print(f\"Knee:     (X={left_knee[1]:.2f}, Y={left_knee[0]:.2f}, Conf={left_knee[2]:.2f})\")\n",
    "    if (left_shoulder[2] > 0.7) and (left_hip[2] > 0.7) and (left_knee[2] > 0.4):\n",
    "        a1=findangle(left_shoulder,left_hip,left_knee)\n",
    "    #print(a1)\n",
    "        mini=min(mini,a1)\n",
    "        maxi=max(maxi,a1)\n",
    "    print(f\"Shoulder: {left_shoulder}, Hip: {left_hip}, Knee: {left_knee}, Angle: {a1}\")\n",
    "\n",
    "    # Rendering (Assuming functions exist)\n",
    "    draw_connections(frame, keypoints, EDGES, 0.4)\n",
    "    draw_keypoints(frame, keypoints_with_scores, 0.4)\n",
    "\n",
    "    # Display the frame\n",
    "    cv2.imshow('MoveNet Lightning', frame)\n",
    "\n",
    "    if cv2.waitKey(1) & 0xFF == ord('q'):  # Adjust wait time\n",
    "        break\n",
    "print(maxi)\n",
    "print(mini)\n",
    "\n",
    "cap.release()\n",
    "cv2.destroyAllWindows()"
   ]
  },
  {
   "cell_type": "code",
   "execution_count": null,
   "metadata": {},
   "outputs": [
    {
     "ename": "",
     "evalue": "",
     "output_type": "error",
     "traceback": [
      "\u001b[1;31mThe Kernel crashed while executing code in the current cell or a previous cell. \n",
      "\u001b[1;31mPlease review the code in the cell(s) to identify a possible cause of the failure. \n",
      "\u001b[1;31mClick <a href='https://aka.ms/vscodeJupyterKernelCrash'>here</a> for more info. \n",
      "\u001b[1;31mView Jupyter <a href='command:jupyter.viewOutput'>log</a> for further details."
     ]
    }
   ],
   "source": [
    "def findangle(p1, p2, p3):\n",
    "    # Convert [Y,X] to [X,Y] and scale to frame size\n",
    "    p1 = np.array([p1[1], p1[0]])  # Shoulder\n",
    "    p2 = np.array([p2[1], p2[0]])  # Hip\n",
    "    p3 = np.array([p3[1], p3[0]])  # Knee\n",
    "    \n",
    "    # Vectors from hip (p2) to shoulder (p1) and knee (p3)\n",
    "    v1 = p1 - p2\n",
    "    v2 = p3 - p2\n",
    "    \n",
    "    # Dot product and magnitudes\n",
    "    dot_product = np.dot(v1, v2)\n",
    "    mag_v1 = np.linalg.norm(v1)\n",
    "    mag_v2 = np.linalg.norm(v2)\n",
    "    \n",
    "    # Avoid division by zero\n",
    "    if mag_v1 * mag_v2 < 1e-6:\n",
    "        return 0\n",
    "    \n",
    "    # Clip to handle floating-point errors\n",
    "    cos_theta = np.clip(dot_product / (mag_v1 * mag_v2), -1.0, 1.0)\n",
    "    return np.degrees(np.arccos(cos_theta))"
   ]
  }
 ],
 "metadata": {
  "kernelspec": {
   "display_name": "gymbro",
   "language": "python",
   "name": "python3"
  },
  "language_info": {
   "codemirror_mode": {
    "name": "ipython",
    "version": 3
   },
   "file_extension": ".py",
   "mimetype": "text/x-python",
   "name": "python",
   "nbconvert_exporter": "python",
   "pygments_lexer": "ipython3",
   "version": "3.9.21"
  }
 },
 "nbformat": 4,
 "nbformat_minor": 2
}
